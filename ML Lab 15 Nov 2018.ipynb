{
 "cells": [
  {
   "cell_type": "code",
   "execution_count": 1,
   "metadata": {},
   "outputs": [
    {
     "name": "stdout",
     "output_type": "stream",
     "text": [
      "Hello World\n"
     ]
    }
   ],
   "source": [
    "print('Hello World')"
   ]
  },
  {
   "cell_type": "code",
   "execution_count": 3,
   "metadata": {},
   "outputs": [
    {
     "name": "stdout",
     "output_type": "stream",
     "text": [
      "Numpy version is 1.14.3\n"
     ]
    }
   ],
   "source": [
    "# importing numpy\n",
    "\n",
    "import numpy as np \n",
    "print(f'Numpy version is {np.version.full_version}')"
   ]
  },
  {
   "cell_type": "markdown",
   "metadata": {},
   "source": [
    "## Numpy array"
   ]
  },
  {
   "cell_type": "code",
   "execution_count": 4,
   "metadata": {},
   "outputs": [
    {
     "name": "stdout",
     "output_type": "stream",
     "text": [
      "Shape = (6,)\n",
      "Dimension = 1\n",
      "A = [ 3  2  5  6  8 10]\n",
      "a[0] = 6\n"
     ]
    }
   ],
   "source": [
    "a = np.array([3,2,5,6,8,10])\n",
    "print(f'Shape = {a.shape}')     # dont'know \n",
    "print(f'Dimension = {a.ndim}')  # dimension of array\n",
    "print(f'A = {a}')\n",
    "print(f'a[0] = {a[3]}')"
   ]
  },
  {
   "cell_type": "markdown",
   "metadata": {},
   "source": [
    "## Reshaping the arrray"
   ]
  },
  {
   "cell_type": "code",
   "execution_count": 5,
   "metadata": {},
   "outputs": [
    {
     "name": "stdout",
     "output_type": "stream",
     "text": [
      "Shape = (3, 2)\n",
      "Dimension = 2\n",
      "A = [[ 3  2]\n",
      " [ 5  6]\n",
      " [ 8 10]]\n",
      "b[0][2] is 2\n"
     ]
    }
   ],
   "source": [
    "# during reshape an array rwo value must be full filled\n",
    "b = a.reshape(3,2)              # maikng this 'a' array into 3 dimensional arrayb`\n",
    "print(f'Shape = {b.shape}')     # dont'know \n",
    "print(f'Dimension = {b.ndim}')  # dimension of array\n",
    "print(f'A = {b}')\n",
    "print(f'b[0][2] is {b[0][1]}')  # printing specific element of the array"
   ]
  },
  {
   "cell_type": "code",
   "execution_count": 6,
   "metadata": {},
   "outputs": [
    {
     "name": "stdout",
     "output_type": "stream",
     "text": [
      "<class 'numpy.ndarray'>\n",
      "<class 'numpy.ndarray'>\n"
     ]
    }
   ],
   "source": [
    "#printing type of the array\n",
    "print(type(a))\n",
    "print(type(b))"
   ]
  },
  {
   "cell_type": "code",
   "execution_count": 7,
   "metadata": {},
   "outputs": [
    {
     "name": "stdout",
     "output_type": "stream",
     "text": [
      "[1. 1. 1. 1.]\n",
      "[0. 0. 0. 0.]\n",
      "[[1. 0. 0. 0.]\n",
      " [0. 1. 0. 0.]\n",
      " [0. 0. 1. 0.]\n",
      " [0. 0. 0. 1.]]\n"
     ]
    }
   ],
   "source": [
    "array1 = np.ones(4)  # creating an array with four 1\n",
    "print(array1)\n",
    "\n",
    "array2 = np.zeros(4) # creating an array with four 0\n",
    "print(array2)\n",
    "\n",
    "array2 = np.eye(4)   # creating 4 by 4 identity matrix \n",
    "print(array2)\n",
    "\n"
   ]
  },
  {
   "cell_type": "code",
   "execution_count": 8,
   "metadata": {},
   "outputs": [
    {
     "name": "stdout",
     "output_type": "stream",
     "text": [
      "array 1 is = \n",
      "[1. 1. 1. 1.]\n",
      "array 2 is = \n",
      "array2 is [[1. 0. 0. 0.]\n",
      " [0. 1. 0. 0.]\n",
      " [0. 0. 1. 0.]\n",
      " [0. 0. 0. 1.]]\n"
     ]
    }
   ],
   "source": [
    "array3 = np.ones((4,4))  # creating an 4 by 4 array of 1\n",
    "print('array 1 is = ')\n",
    "print(array1)\n",
    "\n",
    "array4 = np.zeros((4,4)) # creating an 4 by 4 array of 0\n",
    "print('array 2 is = ')\n",
    "print(f'array2 is {array2}')\n"
   ]
  },
  {
   "cell_type": "code",
   "execution_count": 9,
   "metadata": {},
   "outputs": [
    {
     "name": "stdout",
     "output_type": "stream",
     "text": [
      "[[6 6 6 6]\n",
      " [6 6 6 6]\n",
      " [6 6 6 6]\n",
      " [6 6 6 6]]\n"
     ]
    }
   ],
   "source": [
    "array5 = np.full((4,4),6)   # creating n by n dimensional array with custom data, here custom data is 6\n",
    "print(array5)"
   ]
  },
  {
   "cell_type": "code",
   "execution_count": 10,
   "metadata": {},
   "outputs": [
    {
     "name": "stdout",
     "output_type": "stream",
     "text": [
      "[[ 6 10 10]\n",
      " [18 10 12]\n",
      " [12 10 15]]\n"
     ]
    }
   ],
   "source": [
    "# adding two numpy array\n",
    "mat1 = np.array([3,5,5,9,5,6,6,5,6])\n",
    "mat1Reshape = mat1.reshape(3,3)\n",
    "mat2 = np.array([3,5,5,9,5,6,6,5,9])\n",
    "mat2Reshape = mat2.reshape(3,3)\n",
    "mat3 = mat1Reshape+mat2Reshape\n",
    "print(mat3)"
   ]
  },
  {
   "cell_type": "code",
   "execution_count": 11,
   "metadata": {},
   "outputs": [
    {
     "name": "stdout",
     "output_type": "stream",
     "text": [
      "[[0.19932876 0.2871861  0.04078841 0.84915917]\n",
      " [0.80619598 0.91073296 0.97142025 0.971979  ]\n",
      " [0.54539676 0.0282116  0.00280314 0.19458009]\n",
      " [0.70973298 0.9085028  0.05119748 0.07471873]]\n"
     ]
    }
   ],
   "source": [
    "# random array\n",
    "r_array = np.random.random((4,4))\n",
    "print(r_array)"
   ]
  },
  {
   "cell_type": "code",
   "execution_count": 12,
   "metadata": {},
   "outputs": [
    {
     "name": "stdout",
     "output_type": "stream",
     "text": [
      "[[0.+0.j 5.+0.j 0.+0.j]\n",
      " [5.+0.j 5.+0.j 5.+0.j]\n",
      " [1.+1.j 3.+0.j 2.+0.j]]\n"
     ]
    }
   ],
   "source": [
    "# custom array of mix data\n",
    "t1 = np.array([[0,5,0],[5,5,5.],(1+1j,3.,2.)])\n",
    "print(t1)"
   ]
  },
  {
   "cell_type": "code",
   "execution_count": 16,
   "metadata": {},
   "outputs": [
    {
     "name": "stdout",
     "output_type": "stream",
     "text": [
      "[ 1  2  3  4  5  6  7  8  9 10 11 12 13 14]\n"
     ]
    }
   ],
   "source": [
    "# making an array from range and give its data type\n",
    "i = np.arange(1,15,dtype = np.int)\n",
    "print(i)"
   ]
  },
  {
   "cell_type": "code",
   "execution_count": 56,
   "metadata": {},
   "outputs": [
    {
     "name": "stdout",
     "output_type": "stream",
     "text": [
      "a = \n",
      "[[4 4 4]\n",
      " [4 4 4]\n",
      " [4 4 4]]\n",
      "b = \n",
      "[[3 3 3]\n",
      " [3 3 3]\n",
      " [3 3 3]]\n",
      "a+b = \n",
      "[[7 7 7]\n",
      " [7 7 7]\n",
      " [7 7 7]]\n"
     ]
    }
   ],
   "source": [
    "# exmaple addding two array\n",
    "a = np.full((3,3),4)\n",
    "b = np.full((3,3),3)\n",
    "print('a = ')\n",
    "print(a)\n",
    "print('b = ')\n",
    "print(b)\n",
    "print('a+b = ')\n",
    "print(a+b)"
   ]
  },
  {
   "cell_type": "code",
   "execution_count": 28,
   "metadata": {},
   "outputs": [
    {
     "name": "stdout",
     "output_type": "stream",
     "text": [
      "[1. 3. 5. 7. 9.]\n"
     ]
    }
   ],
   "source": [
    "# making an array of specifying range by given amount of element\n",
    "# this array maintains equal difference between consecutive two element\n",
    "a =  np.linspace(1,9,5)\n",
    "print(a)"
   ]
  },
  {
   "cell_type": "code",
   "execution_count": 62,
   "metadata": {},
   "outputs": [
    {
     "name": "stdout",
     "output_type": "stream",
     "text": [
      "int32 float64 int64\n"
     ]
    }
   ],
   "source": [
    "a = np.array([2,3])\n",
    "b= np.array([2.,3.])\n",
    "c= np.array([4,5],dtype = np.int64)\n",
    "print(a.dtype,b.dtype,c.dtype)"
   ]
  }
 ],
 "metadata": {
  "kernelspec": {
   "display_name": "Python 3",
   "language": "python",
   "name": "python3"
  },
  "language_info": {
   "codemirror_mode": {
    "name": "ipython",
    "version": 3
   },
   "file_extension": ".py",
   "mimetype": "text/x-python",
   "name": "python",
   "nbconvert_exporter": "python",
   "pygments_lexer": "ipython3",
   "version": "3.6.5"
  }
 },
 "nbformat": 4,
 "nbformat_minor": 2
}
