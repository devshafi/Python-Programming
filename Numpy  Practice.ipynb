{
 "cells": [
  {
   "cell_type": "code",
   "execution_count": 3,
   "metadata": {},
   "outputs": [],
   "source": [
    "# importing numpy\n",
    "import numpy as np"
   ]
  },
  {
   "cell_type": "code",
   "execution_count": 8,
   "metadata": {},
   "outputs": [
    {
     "name": "stdout",
     "output_type": "stream",
     "text": [
      "numpy version is 1.14.3\n"
     ]
    }
   ],
   "source": [
    "# checking numpy version\n",
    "print (f'numpy version is {np.version.full_version}')"
   ]
  },
  {
   "cell_type": "code",
   "execution_count": 61,
   "metadata": {},
   "outputs": [
    {
     "name": "stdout",
     "output_type": "stream",
     "text": [
      "shape of the numpy array is = (6,)\n",
      "dimesion of the numpy array is = 1\n",
      "nparray is = [1 2 3 4 5 6]\n",
      "element of the index 4 is = 5\n"
     ]
    }
   ],
   "source": [
    "#numpy arrray declaration\n",
    "nparray = np.array([1,2,3,4,5,6])\n",
    "\n",
    "# shape the numpy array\n",
    "print (f'shape of the numpy array is = {nparray.shape}')\n",
    "\n",
    "# dimension of the numpy array\n",
    "print (f'dimesion of the numpy array is = {nparray.ndim}')\n",
    "\n",
    "#printing the whole numpy array\n",
    "print(f'nparray is = {nparray}')\n",
    "\n",
    "#print element in an specific index of the numpy array\n",
    "a = 4\n",
    "print(f'element of the index {a} is = {nparray[a]}')"
   ]
  },
  {
   "cell_type": "code",
   "execution_count": 62,
   "metadata": {},
   "outputs": [
    {
     "name": "stdout",
     "output_type": "stream",
     "text": [
      "reshaped array is = \n",
      " [[1 2]\n",
      " [3 4]\n",
      " [5 6]]\n"
     ]
    }
   ],
   "source": [
    "# reshaping a numpy array\n",
    "# during reshaping an onde dimensional array it is important to remember that\n",
    "# every row the given new dimensional array must fullfilled\n",
    "# for example if we reshape the above array as 3 by 2 array\n",
    "# it will throw an error, because it is not possible making nparray\n",
    "# as a 3 row and 2 column\n",
    "reshapedarray = nparray.reshape(3,2) \n",
    "print (f'reshaped array is = \\n {reshapedarray}')\n"
   ]
  },
  {
   "cell_type": "code",
   "execution_count": 63,
   "metadata": {},
   "outputs": [
    {
     "name": "stdout",
     "output_type": "stream",
     "text": [
      "dimension of the reshaped array is = 2\n"
     ]
    }
   ],
   "source": [
    "# dimension of the reshapedarray\n",
    "print(f'dimension of the reshaped array is = {reshapedarray.ndim}')\n"
   ]
  },
  {
   "cell_type": "code",
   "execution_count": 64,
   "metadata": {},
   "outputs": [
    {
     "name": "stdout",
     "output_type": "stream",
     "text": [
      "element of the row 2 and column 1 is 6\n"
     ]
    }
   ],
   "source": [
    "# printing element of an specific index of the reshapedarray\n",
    "# numpy array index always starts from 0\n",
    "row = 2\n",
    "col = 1 \n",
    "\n",
    "print(f'element of the row {row} and column {col} is {reshapedarray[row][col]}')"
   ]
  },
  {
   "cell_type": "code",
   "execution_count": 65,
   "metadata": {},
   "outputs": [
    {
     "name": "stdout",
     "output_type": "stream",
     "text": [
      "type of the nparray is <class 'numpy.ndarray'>\n",
      "type of the nparray is <class 'numpy.ndarray'>\n"
     ]
    }
   ],
   "source": [
    "# printing the type of the numpy array\n",
    "print(f'type of the nparray is {type(nparray)}')\n",
    "print(f'type of the nparray is {type(reshapedarray)}')\n",
    "\n",
    "#both are numpy array"
   ]
  },
  {
   "cell_type": "markdown",
   "metadata": {},
   "source": [
    " ## numpy methods for quick array creation"
   ]
  },
  {
   "cell_type": "code",
   "execution_count": 78,
   "metadata": {},
   "outputs": [
    {
     "name": "stdout",
     "output_type": "stream",
     "text": [
      "[1. 1. 1. 1. 1.]\n"
     ]
    }
   ],
   "source": [
    "# creating an one dimensional numpy array of value 1\n",
    "# argument takes how many 1 we want\n",
    "a = np.ones(5)  \n",
    "print(a)"
   ]
  },
  {
   "cell_type": "code",
   "execution_count": 83,
   "metadata": {},
   "outputs": [
    {
     "name": "stdout",
     "output_type": "stream",
     "text": [
      "[0. 0. 0. 0. 0.]\n"
     ]
    }
   ],
   "source": [
    "# creating an one dimensional numpy array of value 0\n",
    "# argument takes how many 0 we want\n",
    "b = np.zeros(5)  \n",
    "print(b)"
   ]
  },
  {
   "cell_type": "code",
   "execution_count": 84,
   "metadata": {},
   "outputs": [
    {
     "name": "stdout",
     "output_type": "stream",
     "text": [
      "[[1. 0. 0. 0. 0.]\n",
      " [0. 1. 0. 0. 0.]\n",
      " [0. 0. 1. 0. 0.]\n",
      " [0. 0. 0. 1. 0.]\n",
      " [0. 0. 0. 0. 1.]]\n"
     ]
    }
   ],
   "source": [
    "# creating n by n dimensional idenity matrix with numpy\n",
    "# argument takes how many rows and column we want\n",
    "c = np.eye(5)  \n",
    "print(c)"
   ]
  },
  {
   "cell_type": "code",
   "execution_count": 99,
   "metadata": {},
   "outputs": [
    {
     "name": "stdout",
     "output_type": "stream",
     "text": [
      "[[1. 1. 1.]\n",
      " [1. 1. 1.]\n",
      " [1. 1. 1.]\n",
      " [1. 1. 1.]]\n"
     ]
    }
   ],
   "source": [
    "# creating an m by n dimensional matrix of the value 1\n",
    "m = 4\n",
    "n = 3\n",
    "a1 = np.ones((m,n))\n",
    "print(a1)"
   ]
  },
  {
   "cell_type": "code",
   "execution_count": 100,
   "metadata": {},
   "outputs": [
    {
     "name": "stdout",
     "output_type": "stream",
     "text": [
      "[[0. 0. 0.]\n",
      " [0. 0. 0.]\n",
      " [0. 0. 0.]\n",
      " [0. 0. 0.]]\n"
     ]
    }
   ],
   "source": [
    "# creating an m by n dimensional matrix of the value 0\n",
    "m = 4\n",
    "n = 3\n",
    "a2 = np.zeros((m,n))\n",
    "print(a2)"
   ]
  },
  {
   "cell_type": "code",
   "execution_count": 109,
   "metadata": {},
   "outputs": [
    {
     "name": "stdout",
     "output_type": "stream",
     "text": [
      "[[12 12 12]\n",
      " [12 12 12]\n",
      " [12 12 12]\n",
      " [12 12 12]]\n"
     ]
    }
   ],
   "source": [
    "# creating an m by n matrix by giving an specific element or custom element\n",
    "m = 4\n",
    "n = 3\n",
    "elem = 12\n",
    "a3 = np.full((m,n),elem)\n",
    "print(a3)"
   ]
  },
  {
   "cell_type": "code",
   "execution_count": 125,
   "metadata": {},
   "outputs": [
    {
     "name": "stdout",
     "output_type": "stream",
     "text": [
      "mat1 is \n",
      " [[3 3]\n",
      " [3 3]\n",
      " [3 3]\n",
      " [3 3]]\n",
      "mat2 is \n",
      " [[4]\n",
      " [4]\n",
      " [4]\n",
      " [4]]\n",
      "summation of mat1 and mat2 is \n",
      "[[7 7]\n",
      " [7 7]\n",
      " [7 7]\n",
      " [7 7]]\n"
     ]
    }
   ],
   "source": [
    "# addition of the two matrix using numpy\n",
    "\n",
    "mat1 = np.full((4,2),3)\n",
    "print(f'mat1 is \\n {mat1}')\n",
    "mat2 = np.full((4,1),4)\n",
    "print(f'mat2 is \\n {mat2}')\n",
    "print(f'summation of mat1 and mat2 is \\n{mat1+mat2}')\n"
   ]
  },
  {
   "cell_type": "code",
   "execution_count": 131,
   "metadata": {},
   "outputs": [
    {
     "name": "stdout",
     "output_type": "stream",
     "text": [
      "[[0.7993592  0.93172772]\n",
      " [0.8460252  0.61834614]\n",
      " [0.57444658 0.60010492]\n",
      " [0.48105284 0.68939794]]\n"
     ]
    }
   ],
   "source": [
    "# maikng a random value matrix using numpy\n",
    "rnarray = np.random.random((4,2))\n",
    "print(rnarray)\n"
   ]
  },
  {
   "cell_type": "code",
   "execution_count": 137,
   "metadata": {},
   "outputs": [
    {
     "name": "stdout",
     "output_type": "stream",
     "text": [
      "[['4' '5' '3']\n",
      " ['(1+0j)' '4' '5']\n",
      " ['shafi' 'rafi' '5']]\n"
     ]
    }
   ],
   "source": [
    "# making an custom np array with custom data\n",
    "\n",
    "cstmnparray = np.array([[4,5,3],[1+0j,4,5],('shafi','rafi',5)])\n",
    "print(cstmnparray)"
   ]
  },
  {
   "cell_type": "code",
   "execution_count": 141,
   "metadata": {},
   "outputs": [
    {
     "name": "stdout",
     "output_type": "stream",
     "text": [
      "[1. 2. 3. 4. 5. 6. 7. 8. 9.]\n"
     ]
    }
   ],
   "source": [
    "# making an one d array by specifiying distance between consecutive elements and how many elements we want\n",
    "anew = np.linspace(1,9,9)\n",
    "print(anew)\n"
   ]
  },
  {
   "cell_type": "code",
   "execution_count": 147,
   "metadata": {},
   "outputs": [
    {
     "name": "stdout",
     "output_type": "stream",
     "text": [
      "int32 int32 int64\n"
     ]
    }
   ],
   "source": [
    "# printing and changing data type of the numpy array\n",
    "a10 = np.array([5,6,8,9,10,11,12])\n",
    "a11 = np.array([5,6,8,9,10,11,12])\n",
    "a12 = np.array([5,6,8,9,10,11,12],dtype= np.int64)\n",
    "print(a10.dtype,a11.dtype,a12.dtype)"
   ]
  }
 ],
 "metadata": {
  "kernelspec": {
   "display_name": "Python 3",
   "language": "python",
   "name": "python3"
  },
  "language_info": {
   "codemirror_mode": {
    "name": "ipython",
    "version": 3
   },
   "file_extension": ".py",
   "mimetype": "text/x-python",
   "name": "python",
   "nbconvert_exporter": "python",
   "pygments_lexer": "ipython3",
   "version": "3.6.5"
  }
 },
 "nbformat": 4,
 "nbformat_minor": 2
}
