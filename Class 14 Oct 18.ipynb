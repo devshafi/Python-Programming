{
 "cells": [
  {
   "cell_type": "markdown",
   "metadata": {},
   "source": [
    "### Enabling suggestion"
   ]
  },
  {
   "cell_type": "code",
   "execution_count": null,
   "metadata": {},
   "outputs": [],
   "source": [
    "%config IPCompleter.greedy=True"
   ]
  },
  {
   "cell_type": "code",
   "execution_count": 1,
   "metadata": {},
   "outputs": [
    {
     "name": "stdout",
     "output_type": "stream",
     "text": [
      "Hello\n"
     ]
    }
   ],
   "source": [
    "print(\"Hello\")"
   ]
  },
  {
   "cell_type": "markdown",
   "metadata": {},
   "source": [
    "# defining a function which will do addition,subtraction,multiplication,division"
   ]
  },
  {
   "cell_type": "code",
   "execution_count": 2,
   "metadata": {},
   "outputs": [
    {
     "name": "stdout",
     "output_type": "stream",
     "text": [
      "sum of 5 and 2 is 7\n",
      "subtraction of 5 and 2 is 3\n",
      "multiplication of 5 and 2 is 10\n",
      "division of 5 and 2 is 2.5\n",
      "None\n"
     ]
    }
   ],
   "source": [
    "\n",
    "def calculate(a,b):\n",
    "    print(f'sum of {a} and {b} is {a+b}')\n",
    "    print(f'subtraction of {a} and {b} is {a-b}')\n",
    "    print(f'multiplication of {a} and {b} is {a*b}')\n",
    "    print(f'division of {a} and {b} is {a/b}')\n",
    "    \n",
    "print(calculate(5,2))"
   ]
  },
  {
   "cell_type": "markdown",
   "metadata": {},
   "source": [
    "# defining a function which will do addition,subtraction,multiplication,division"
   ]
  },
  {
   "cell_type": "code",
   "execution_count": 12,
   "metadata": {},
   "outputs": [
    {
     "name": "stdout",
     "output_type": "stream",
     "text": [
      "sum of 5 and 5 is 10\n",
      "subtraction of 5 and 5 is 0\n",
      "multiplication of 5 and 5 is 25\n",
      "division of 5 and 5 is 1.0\n",
      "None\n"
     ]
    }
   ],
   "source": [
    "\n",
    "\n",
    "def calculate(a,b=5):                        # function with default value in y\n",
    "    print(f'sum of {a} and {b} is {a+b}')\n",
    "    print(f'subtraction of {a} and {b} is {a-b}')\n",
    "    print(f'multiplication of {a} and {b} is {a*b}')\n",
    "    print(f'division of {a} and {b} is {a/b}')\n",
    "    \n",
    "print(calculate(5))                         #value of y will be automatically 5 here"
   ]
  },
  {
   "cell_type": "markdown",
   "metadata": {},
   "source": [
    "# variable length argument in function"
   ]
  },
  {
   "cell_type": "code",
   "execution_count": 3,
   "metadata": {},
   "outputs": [
    {
     "name": "stdout",
     "output_type": "stream",
     "text": [
      "1\n",
      "2\n",
      "3\n",
      "5\n",
      "6\n",
      "7\n",
      "7\n",
      "None\n"
     ]
    }
   ],
   "source": [
    "def printValues(*values):          #  * is the  the symbol of varibale lenght argument\n",
    "    for value in values:\n",
    "        print(value)\n",
    "    \n",
    "print(printValues(1,2,3,5,6,7,7))  # we can pass any amount of argument in this function"
   ]
  },
  {
   "cell_type": "markdown",
   "metadata": {},
   "source": [
    "# Problem finding standard deviation from arithmatic mean"
   ]
  },
  {
   "cell_type": "code",
   "execution_count": 36,
   "metadata": {},
   "outputs": [
    {
     "name": "stdout",
     "output_type": "stream",
     "text": [
      "MEAN IS 4.0\n",
      "\n",
      "#---STANDARD DEVIATION---#\n",
      "standard deviation of 5 is 1.0\n",
      "standard deviation of 4 is 0.0\n",
      "standard deviation of 3 is 1.0\n",
      "None\n"
     ]
    }
   ],
   "source": [
    "def calcStanDev(*values):              #can take any amount of input (variable lenght of argument)\n",
    "    \n",
    "    total = 0;\n",
    "    count = 0;\n",
    "    \n",
    "    for value in values:\n",
    "        total+=value                   # summing all the value\n",
    "        count+=1                       # counting how many values there are\n",
    "    \n",
    "    mean = total/count\n",
    "    print(f'MEAN IS {mean}')\n",
    "    \n",
    "    # standard deviation for each value is the difference between mean and each value\n",
    "    print('#---STANDARD DEVIATION---#')\n",
    "    for value in values:\n",
    "        print(f'standard deviation of {value} is {abs(mean -value)}')        \n",
    "     \n",
    "print(calcStanDev(5,4,3))\n",
    "    \n",
    "        "
   ]
  },
  {
   "cell_type": "markdown",
   "metadata": {},
   "source": [
    "# named/keyword argument"
   ]
  },
  {
   "cell_type": "code",
   "execution_count": 26,
   "metadata": {},
   "outputs": [
    {
     "name": "stdout",
     "output_type": "stream",
     "text": [
      "name Shafi\n",
      "email frshafi49@gmail.com\n",
      "age 20\n"
     ]
    }
   ],
   "source": [
    "def show(**args):\n",
    "    for value in args:\n",
    "        print(value,args[value])\n",
    "        \n",
    "show(name=\"Shafi\",email=\"frshafi49@gmail.com\",age=20) "
   ]
  },
  {
   "cell_type": "markdown",
   "metadata": {},
   "source": [
    "# importing module"
   ]
  },
  {
   "cell_type": "code",
   "execution_count": 23,
   "metadata": {
    "scrolled": true
   },
   "outputs": [
    {
     "name": "stdout",
     "output_type": "stream",
     "text": [
      "['DirEntry', 'F_OK', 'MutableMapping', 'O_APPEND', 'O_BINARY', 'O_CREAT', 'O_EXCL', 'O_NOINHERIT', 'O_RANDOM', 'O_RDONLY', 'O_RDWR', 'O_SEQUENTIAL', 'O_SHORT_LIVED', 'O_TEMPORARY', 'O_TEXT', 'O_TRUNC', 'O_WRONLY', 'P_DETACH', 'P_NOWAIT', 'P_NOWAITO', 'P_OVERLAY', 'P_WAIT', 'PathLike', 'R_OK', 'SEEK_CUR', 'SEEK_END', 'SEEK_SET', 'TMP_MAX', 'W_OK', 'X_OK', '_Environ', '__all__', '__builtins__', '__cached__', '__doc__', '__file__', '__loader__', '__name__', '__package__', '__spec__', '_execvpe', '_exists', '_exit', '_fspath', '_get_exports_list', '_putenv', '_unsetenv', '_wrap_close', 'abc', 'abort', 'access', 'altsep', 'chdir', 'chmod', 'close', 'closerange', 'cpu_count', 'curdir', 'defpath', 'device_encoding', 'devnull', 'dup', 'dup2', 'environ', 'errno', 'error', 'execl', 'execle', 'execlp', 'execlpe', 'execv', 'execve', 'execvp', 'execvpe', 'extsep', 'fdopen', 'fsdecode', 'fsencode', 'fspath', 'fstat', 'fsync', 'ftruncate', 'get_exec_path', 'get_handle_inheritable', 'get_inheritable', 'get_terminal_size', 'getcwd', 'getcwdb', 'getenv', 'getlogin', 'getpid', 'getppid', 'isatty', 'kill', 'linesep', 'link', 'listdir', 'lseek', 'lstat', 'makedirs', 'mkdir', 'name', 'open', 'pardir', 'path', 'pathsep', 'pipe', 'popen', 'putenv', 'read', 'readlink', 'remove', 'removedirs', 'rename', 'renames', 'replace', 'rmdir', 'scandir', 'sep', 'set_handle_inheritable', 'set_inheritable', 'spawnl', 'spawnle', 'spawnv', 'spawnve', 'st', 'startfile', 'stat', 'stat_float_times', 'stat_result', 'statvfs_result', 'strerror', 'supports_bytes_environ', 'supports_dir_fd', 'supports_effective_ids', 'supports_fd', 'supports_follow_symlinks', 'symlink', 'sys', 'system', 'terminal_size', 'times', 'times_result', 'truncate', 'umask', 'uname_result', 'unlink', 'urandom', 'utime', 'waitpid', 'walk', 'write']\n"
     ]
    }
   ],
   "source": [
    "import os\n",
    "content = dir(os)\n",
    "print(content)"
   ]
  },
  {
   "cell_type": "markdown",
   "metadata": {},
   "source": [
    "# In above print, showing all the content in the available in the module"
   ]
  },
  {
   "cell_type": "code",
   "execution_count": 80,
   "metadata": {},
   "outputs": [
    {
     "name": "stdout",
     "output_type": "stream",
     "text": [
      "6\n",
      "Median is : 4.0\n"
     ]
    }
   ],
   "source": [
    "mlist = [6,5,6,3,2,1]\n",
    "mlist.sort()\n",
    "\n",
    "length = len(mlist);\n",
    "print(length)\n",
    "\n",
    "halflen = length%2\n",
    "\n",
    "if(halflen==0):\n",
    "    median = (mlist[(int)(length/2 - 1)] + mlist[(int)(length/2)])/2\n",
    "    print(f'Median is : {median}')\n",
    "else:\n",
    "    print(f'Median is : {mlist[(int)(length/2)]}')\n",
    "    \n",
    "\n"
   ]
  },
  {
   "cell_type": "code",
   "execution_count": null,
   "metadata": {},
   "outputs": [],
   "source": []
  }
 ],
 "metadata": {
  "kernelspec": {
   "display_name": "Python 3",
   "language": "python",
   "name": "python3"
  },
  "language_info": {
   "codemirror_mode": {
    "name": "ipython",
    "version": 3
   },
   "file_extension": ".py",
   "mimetype": "text/x-python",
   "name": "python",
   "nbconvert_exporter": "python",
   "pygments_lexer": "ipython3",
   "version": "3.6.5"
  }
 },
 "nbformat": 4,
 "nbformat_minor": 2
}
