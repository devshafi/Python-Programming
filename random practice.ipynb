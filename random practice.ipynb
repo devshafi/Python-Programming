{
 "cells": [
  {
   "cell_type": "code",
   "execution_count": 25,
   "metadata": {},
   "outputs": [
    {
     "name": "stdout",
     "output_type": "stream",
     "text": [
      "shafi\n",
      "\n",
      "s\n",
      "sh\n",
      "sha\n",
      "shaf\n",
      "shafi\n",
      "i\n",
      "fi\n",
      "afi\n",
      "hafi\n",
      "shafi\n"
     ]
    }
   ],
   "source": [
    "name = input()\n",
    "\n",
    "for m in range(len(name)+1):\n",
    "    for n in range(m):\n",
    "        print(name[n],end=\"\")\n",
    "    print()\n",
    "    \n",
    "    \n",
    "for m in reversed(range(len(name))):\n",
    "    for n in range(m,len(name)):\n",
    "        print(name[n],end=\"\")\n",
    "    print()\n",
    "\n",
    "    \n",
    "\n"
   ]
  },
  {
   "cell_type": "code",
   "execution_count": 29,
   "metadata": {},
   "outputs": [
    {
     "name": "stdout",
     "output_type": "stream",
     "text": [
      "shafi\n",
      "saf\n",
      "not a substring\n"
     ]
    }
   ],
   "source": [
    "name = input()\n",
    "sub = input()\n",
    "flag = 0;\n",
    "\n",
    "for m in range(len(name)):\n",
    "    if(name[m] == sub [0]):\n",
    "        count = 0\n",
    "        for n in range(len(sub)):\n",
    "            if(sub[n]==name[m+n]):\n",
    "                count=count+1\n",
    "        if(count==len(sub)):\n",
    "            flag = 1;\n",
    "if(flag==0):\n",
    "    print(\"not a substring\")\n",
    "else:\n",
    "    print(\"substring\")\n",
    "            \n",
    "                "
   ]
  },
  {
   "cell_type": "code",
   "execution_count": 16,
   "metadata": {},
   "outputs": [
    {
     "name": "stdout",
     "output_type": "stream",
     "text": [
      "computer\n",
      "5\n",
      "compu\n",
      "omput\n",
      "mpute\n",
      "puter\n"
     ]
    }
   ],
   "source": [
    "name = input()\n",
    "num = int(input())\n",
    "flag = 0\n",
    "\n",
    "for m in range(len(name)):\n",
    "    for n in range(m,m+num):\n",
    "        print(name[n],end=\"\")\n",
    "        if(name[n]==name[len(name)-1]):\n",
    "            flag = 1\n",
    "    print()\n",
    "    if(flag==1):\n",
    "        break\n",
    "    "
   ]
  }
 ],
 "metadata": {
  "kernelspec": {
   "display_name": "Python 3",
   "language": "python",
   "name": "python3"
  },
  "language_info": {
   "codemirror_mode": {
    "name": "ipython",
    "version": 3
   },
   "file_extension": ".py",
   "mimetype": "text/x-python",
   "name": "python",
   "nbconvert_exporter": "python",
   "pygments_lexer": "ipython3",
   "version": "3.6.5"
  }
 },
 "nbformat": 4,
 "nbformat_minor": 2
}
