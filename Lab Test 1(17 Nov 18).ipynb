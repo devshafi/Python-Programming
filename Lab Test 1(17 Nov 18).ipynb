{
 "cells": [
  {
   "cell_type": "code",
   "execution_count": 8,
   "metadata": {},
   "outputs": [
    {
     "name": "stdout",
     "output_type": "stream",
     "text": [
      "Undefined\n",
      "None\n"
     ]
    }
   ],
   "source": [
    "def gradecalculator(mark):\n",
    "    if(mark>=30 and mark<40):\n",
    "        print(\"Grade is D\")\n",
    "    elif(mark>=40 and mark<50):\n",
    "        print(\"Grade is C\")\n",
    "    elif(mark>=50 and mark<60):\n",
    "        print(\"Grade is B\")\n",
    "    elif(mark>=60 and mark<70):\n",
    "        print(\"Grade is A-\")\n",
    "    elif(mark>=70 and mark<80):\n",
    "        print(\"Grade is A\")\n",
    "    elif(mark>=80 and mark<100):\n",
    "        print(\"Grade is A+\")\n",
    "    elif(mark>100):\n",
    "        print(\"Undefined\")\n",
    "    else:\n",
    "         print(\"Fail\")\n",
    "        \n",
    "    \n",
    "    \n",
    "    \n",
    "        \n",
    "\n",
    "print(gradecalculator(220))\n",
    "    "
   ]
  }
 ],
 "metadata": {
  "kernelspec": {
   "display_name": "Python 3",
   "language": "python",
   "name": "python3"
  },
  "language_info": {
   "codemirror_mode": {
    "name": "ipython",
    "version": 3
   },
   "file_extension": ".py",
   "mimetype": "text/x-python",
   "name": "python",
   "nbconvert_exporter": "python",
   "pygments_lexer": "ipython3",
   "version": "3.6.5"
  }
 },
 "nbformat": 4,
 "nbformat_minor": 2
}
