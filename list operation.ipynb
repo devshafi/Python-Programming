{
 "cells": [
  {
   "cell_type": "markdown",
   "metadata": {},
   "source": [
    "### Basic operation in list "
   ]
  },
  {
   "cell_type": "code",
   "execution_count": 27,
   "metadata": {},
   "outputs": [],
   "source": [
    "%config IPCompleter.greedy=True"
   ]
  },
  {
   "cell_type": "code",
   "execution_count": 9,
   "metadata": {},
   "outputs": [
    {
     "name": "stdout",
     "output_type": "stream",
     "text": [
      "['a', 'g', 'e', 'd', 'b', 'e', 'k', 'g']\n"
     ]
    }
   ],
   "source": [
    "mlist = ['a','g','e','d','b']\n",
    "nlist = ['e','k','g']\n",
    "mlist.extend(nlist)               ## appending another  list with the current list\n",
    "print(mlist)\n"
   ]
  },
  {
   "cell_type": "code",
   "execution_count": 2,
   "metadata": {},
   "outputs": [
    {
     "data": {
      "text/plain": [
       "2"
      ]
     },
     "execution_count": 2,
     "metadata": {},
     "output_type": "execute_result"
    }
   ],
   "source": [
    "mlist.count('g')                 ## returns the first occurence position of the item"
   ]
  },
  {
   "cell_type": "code",
   "execution_count": 60,
   "metadata": {},
   "outputs": [
    {
     "data": {
      "text/plain": [
       "0"
      ]
     },
     "execution_count": 60,
     "metadata": {},
     "output_type": "execute_result"
    }
   ],
   "source": [
    "mlist.count('z')                 ## returns 0 if the element is not in the list"
   ]
  },
  {
   "cell_type": "code",
   "execution_count": 63,
   "metadata": {},
   "outputs": [
    {
     "data": {
      "text/plain": [
       "1"
      ]
     },
     "execution_count": 63,
     "metadata": {},
     "output_type": "execute_result"
    }
   ],
   "source": [
    "mlist.index('g')                 ## returns the postion of the item in the list"
   ]
  },
  {
   "cell_type": "code",
   "execution_count": 10,
   "metadata": {},
   "outputs": [
    {
     "name": "stdout",
     "output_type": "stream",
     "text": [
      "['a', 'g', 'e', 'd', 'b', 'e', 'k']\n"
     ]
    }
   ],
   "source": [
    "mlist.pop()                     ## removing last element\n",
    "print(mlist)  "
   ]
  },
  {
   "cell_type": "code",
   "execution_count": 7,
   "metadata": {},
   "outputs": [
    {
     "name": "stdout",
     "output_type": "stream",
     "text": [
      "['a', 'e', 'k']\n"
     ]
    }
   ],
   "source": [
    "mlist.pop(1)                    ## removing element by index \n",
    "print(mlist)"
   ]
  },
  {
   "cell_type": "code",
   "execution_count": 53,
   "metadata": {},
   "outputs": [
    {
     "name": "stdout",
     "output_type": "stream",
     "text": [
      "['e', 'd', 'b', 'e', 'k']\n"
     ]
    }
   ],
   "source": [
    "mlist.remove('a')               ## removing specific object from list\n",
    "print(mlist)"
   ]
  },
  {
   "cell_type": "code",
   "execution_count": 13,
   "metadata": {},
   "outputs": [
    {
     "name": "stdout",
     "output_type": "stream",
     "text": [
      "[7, 2, 66, 9, 4, 5]\n"
     ]
    }
   ],
   "source": [
    "alist = [5,4,9,66,2,7]\n",
    "alist.reverse();                ##reversing the list\n",
    "print(alist)"
   ]
  },
  {
   "cell_type": "code",
   "execution_count": 55,
   "metadata": {},
   "outputs": [
    {
     "name": "stdout",
     "output_type": "stream",
     "text": [
      "[2, 4, 5, 7, 9, 66]\n"
     ]
    }
   ],
   "source": [
    "alist.sort()                    ## sorting all the elements of the list\n",
    "print(alist)            "
   ]
  },
  {
   "cell_type": "code",
   "execution_count": 45,
   "metadata": {},
   "outputs": [
    {
     "name": "stdout",
     "output_type": "stream",
     "text": [
      "Peter\n",
      "John\n",
      "Alex\n",
      "Jack\n",
      "60\n",
      "75\n",
      "83\n",
      "90\n",
      "Max score is 90\n",
      "4\n"
     ]
    },
    {
     "data": {
      "text/plain": [
       "['John', 'Alex', 'Jack']"
      ]
     },
     "execution_count": 45,
     "metadata": {},
     "output_type": "execute_result"
    }
   ],
   "source": [
    "namelist  = ['Peter','John','Alex',\"Jack\"]\n",
    "scorelist = [60,75,83,90]\n",
    "\n",
    "for name in namelist:\n",
    "    print(name)\n",
    "    \n",
    "for score in scorelist:\n",
    "    print(score)\n",
    "    \n",
    "print(f'Max score is {max(scorelist)}')\n",
    "\n",
    "lenofnamelist = len(namelist)\n",
    "print(lenofnamelist)\n",
    "\n",
    "namelist[1:]\n",
    "\n"
   ]
  },
  {
   "cell_type": "code",
   "execution_count": 17,
   "metadata": {},
   "outputs": [
    {
     "name": "stdout",
     "output_type": "stream",
     "text": [
      "Name is Peter and score is 60\n",
      "Name is John and score is 75\n",
      "Name is Alex and score is 83\n",
      "Name is Jack and score is 90\n"
     ]
    }
   ],
   "source": [
    "i = 0\n",
    "while i<len(namelist):\n",
    "    print(f'Name is {namelist[i]} and score is {scorelist[i]}')\n",
    "    i+=1\n",
    "    "
   ]
  }
 ],
 "metadata": {
  "kernelspec": {
   "display_name": "Python 3",
   "language": "python",
   "name": "python3"
  },
  "language_info": {
   "codemirror_mode": {
    "name": "ipython",
    "version": 3
   },
   "file_extension": ".py",
   "mimetype": "text/x-python",
   "name": "python",
   "nbconvert_exporter": "python",
   "pygments_lexer": "ipython3",
   "version": "3.6.5"
  }
 },
 "nbformat": 4,
 "nbformat_minor": 2
}
